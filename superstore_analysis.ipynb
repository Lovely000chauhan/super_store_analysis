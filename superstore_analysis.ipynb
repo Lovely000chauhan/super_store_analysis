{
 "cells": [
  {
   "cell_type": "code",
   "execution_count": 1,
   "id": "887ded43-0a39-445d-9ff6-97337b0402df",
   "metadata": {},
   "outputs": [],
   "source": [
    "import pandas as pd"
   ]
  },
  {
   "cell_type": "code",
   "execution_count": 2,
   "id": "82ce8664-f6cd-4bbb-a6a3-30455b3a26f1",
   "metadata": {},
   "outputs": [],
   "source": [
    "import numpy as np\n",
    "import matplotlib.pyplot as plt"
   ]
  },
  {
   "cell_type": "code",
   "execution_count": 3,
   "id": "3c8cbd91-4ac9-4df9-ade3-4e5d4461257c",
   "metadata": {},
   "outputs": [],
   "source": [
    "import seaborn as sns"
   ]
  },
  {
   "cell_type": "code",
   "execution_count": 4,
   "id": "cc1d8a10-b01a-417d-9759-8e3e9e0d6cdf",
   "metadata": {},
   "outputs": [
    {
     "data": {
      "text/html": [
       "<div>\n",
       "<style scoped>\n",
       "    .dataframe tbody tr th:only-of-type {\n",
       "        vertical-align: middle;\n",
       "    }\n",
       "\n",
       "    .dataframe tbody tr th {\n",
       "        vertical-align: top;\n",
       "    }\n",
       "\n",
       "    .dataframe thead th {\n",
       "        text-align: right;\n",
       "    }\n",
       "</style>\n",
       "<table border=\"1\" class=\"dataframe\">\n",
       "  <thead>\n",
       "    <tr style=\"text-align: right;\">\n",
       "      <th></th>\n",
       "      <th>Row ID</th>\n",
       "      <th>Order ID</th>\n",
       "      <th>Order Date</th>\n",
       "      <th>Ship Date</th>\n",
       "      <th>Ship Mode</th>\n",
       "      <th>Customer ID</th>\n",
       "      <th>Customer Name</th>\n",
       "      <th>Segment</th>\n",
       "      <th>Country</th>\n",
       "      <th>City</th>\n",
       "      <th>...</th>\n",
       "      <th>Postal Code</th>\n",
       "      <th>Region</th>\n",
       "      <th>Product ID</th>\n",
       "      <th>Category</th>\n",
       "      <th>Sub-Category</th>\n",
       "      <th>Product Name</th>\n",
       "      <th>Sales</th>\n",
       "      <th>Quantity</th>\n",
       "      <th>Discount</th>\n",
       "      <th>Profit</th>\n",
       "    </tr>\n",
       "  </thead>\n",
       "  <tbody>\n",
       "    <tr>\n",
       "      <th>0</th>\n",
       "      <td>1</td>\n",
       "      <td>CA-2016-152156</td>\n",
       "      <td>11-08-2016</td>\n",
       "      <td>11-11-2016</td>\n",
       "      <td>Second Class</td>\n",
       "      <td>CG-12520</td>\n",
       "      <td>Claire Gute</td>\n",
       "      <td>Consumer</td>\n",
       "      <td>United States</td>\n",
       "      <td>Henderson</td>\n",
       "      <td>...</td>\n",
       "      <td>42420</td>\n",
       "      <td>South</td>\n",
       "      <td>FUR-BO-10001798</td>\n",
       "      <td>Furniture</td>\n",
       "      <td>Bookcases</td>\n",
       "      <td>Bush Somerset Collection Bookcase</td>\n",
       "      <td>261.9600</td>\n",
       "      <td>2</td>\n",
       "      <td>0.00</td>\n",
       "      <td>41.9136</td>\n",
       "    </tr>\n",
       "    <tr>\n",
       "      <th>1</th>\n",
       "      <td>2</td>\n",
       "      <td>CA-2016-152156</td>\n",
       "      <td>11-08-2016</td>\n",
       "      <td>11-11-2016</td>\n",
       "      <td>Second Class</td>\n",
       "      <td>CG-12520</td>\n",
       "      <td>Claire Gute</td>\n",
       "      <td>Consumer</td>\n",
       "      <td>United States</td>\n",
       "      <td>Henderson</td>\n",
       "      <td>...</td>\n",
       "      <td>42420</td>\n",
       "      <td>South</td>\n",
       "      <td>FUR-CH-10000454</td>\n",
       "      <td>Furniture</td>\n",
       "      <td>Chairs</td>\n",
       "      <td>Hon Deluxe Fabric Upholstered Stacking Chairs,...</td>\n",
       "      <td>731.9400</td>\n",
       "      <td>3</td>\n",
       "      <td>0.00</td>\n",
       "      <td>219.5820</td>\n",
       "    </tr>\n",
       "    <tr>\n",
       "      <th>2</th>\n",
       "      <td>3</td>\n",
       "      <td>CA-2016-138688</td>\n",
       "      <td>06-12-2016</td>\n",
       "      <td>6/16/2016</td>\n",
       "      <td>Second Class</td>\n",
       "      <td>DV-13045</td>\n",
       "      <td>Darrin Van Huff</td>\n",
       "      <td>Corporate</td>\n",
       "      <td>United States</td>\n",
       "      <td>Los Angeles</td>\n",
       "      <td>...</td>\n",
       "      <td>90036</td>\n",
       "      <td>West</td>\n",
       "      <td>OFF-LA-10000240</td>\n",
       "      <td>Office Supplies</td>\n",
       "      <td>Labels</td>\n",
       "      <td>Self-Adhesive Address Labels for Typewriters b...</td>\n",
       "      <td>14.6200</td>\n",
       "      <td>2</td>\n",
       "      <td>0.00</td>\n",
       "      <td>6.8714</td>\n",
       "    </tr>\n",
       "    <tr>\n",
       "      <th>3</th>\n",
       "      <td>4</td>\n",
       "      <td>US-2015-108966</td>\n",
       "      <td>10-11-2015</td>\n",
       "      <td>10/18/2015</td>\n",
       "      <td>Standard Class</td>\n",
       "      <td>SO-20335</td>\n",
       "      <td>Sean O'Donnell</td>\n",
       "      <td>Consumer</td>\n",
       "      <td>United States</td>\n",
       "      <td>Fort Lauderdale</td>\n",
       "      <td>...</td>\n",
       "      <td>33311</td>\n",
       "      <td>South</td>\n",
       "      <td>FUR-TA-10000577</td>\n",
       "      <td>Furniture</td>\n",
       "      <td>Tables</td>\n",
       "      <td>Bretford CR4500 Series Slim Rectangular Table</td>\n",
       "      <td>957.5775</td>\n",
       "      <td>5</td>\n",
       "      <td>0.45</td>\n",
       "      <td>-383.0310</td>\n",
       "    </tr>\n",
       "    <tr>\n",
       "      <th>4</th>\n",
       "      <td>5</td>\n",
       "      <td>US-2015-108966</td>\n",
       "      <td>10-11-2015</td>\n",
       "      <td>10/18/2015</td>\n",
       "      <td>Standard Class</td>\n",
       "      <td>SO-20335</td>\n",
       "      <td>Sean O'Donnell</td>\n",
       "      <td>Consumer</td>\n",
       "      <td>United States</td>\n",
       "      <td>Fort Lauderdale</td>\n",
       "      <td>...</td>\n",
       "      <td>33311</td>\n",
       "      <td>South</td>\n",
       "      <td>OFF-ST-10000760</td>\n",
       "      <td>Office Supplies</td>\n",
       "      <td>Storage</td>\n",
       "      <td>Eldon Fold 'N Roll Cart System</td>\n",
       "      <td>22.3680</td>\n",
       "      <td>2</td>\n",
       "      <td>0.20</td>\n",
       "      <td>2.5164</td>\n",
       "    </tr>\n",
       "  </tbody>\n",
       "</table>\n",
       "<p>5 rows × 21 columns</p>\n",
       "</div>"
      ],
      "text/plain": [
       "   Row ID        Order ID  Order Date   Ship Date       Ship Mode Customer ID  \\\n",
       "0       1  CA-2016-152156  11-08-2016  11-11-2016    Second Class    CG-12520   \n",
       "1       2  CA-2016-152156  11-08-2016  11-11-2016    Second Class    CG-12520   \n",
       "2       3  CA-2016-138688  06-12-2016   6/16/2016    Second Class    DV-13045   \n",
       "3       4  US-2015-108966  10-11-2015  10/18/2015  Standard Class    SO-20335   \n",
       "4       5  US-2015-108966  10-11-2015  10/18/2015  Standard Class    SO-20335   \n",
       "\n",
       "     Customer Name    Segment        Country             City  ...  \\\n",
       "0      Claire Gute   Consumer  United States        Henderson  ...   \n",
       "1      Claire Gute   Consumer  United States        Henderson  ...   \n",
       "2  Darrin Van Huff  Corporate  United States      Los Angeles  ...   \n",
       "3   Sean O'Donnell   Consumer  United States  Fort Lauderdale  ...   \n",
       "4   Sean O'Donnell   Consumer  United States  Fort Lauderdale  ...   \n",
       "\n",
       "  Postal Code  Region       Product ID         Category Sub-Category  \\\n",
       "0       42420   South  FUR-BO-10001798        Furniture    Bookcases   \n",
       "1       42420   South  FUR-CH-10000454        Furniture       Chairs   \n",
       "2       90036    West  OFF-LA-10000240  Office Supplies       Labels   \n",
       "3       33311   South  FUR-TA-10000577        Furniture       Tables   \n",
       "4       33311   South  OFF-ST-10000760  Office Supplies      Storage   \n",
       "\n",
       "                                        Product Name     Sales  Quantity  \\\n",
       "0                  Bush Somerset Collection Bookcase  261.9600         2   \n",
       "1  Hon Deluxe Fabric Upholstered Stacking Chairs,...  731.9400         3   \n",
       "2  Self-Adhesive Address Labels for Typewriters b...   14.6200         2   \n",
       "3      Bretford CR4500 Series Slim Rectangular Table  957.5775         5   \n",
       "4                     Eldon Fold 'N Roll Cart System   22.3680         2   \n",
       "\n",
       "   Discount    Profit  \n",
       "0      0.00   41.9136  \n",
       "1      0.00  219.5820  \n",
       "2      0.00    6.8714  \n",
       "3      0.45 -383.0310  \n",
       "4      0.20    2.5164  \n",
       "\n",
       "[5 rows x 21 columns]"
      ]
     },
     "execution_count": 4,
     "metadata": {},
     "output_type": "execute_result"
    }
   ],
   "source": [
    "\n",
    "df = pd.read_csv(\"C:/Users/chauh/OneDrive/Documents/superstore data.csv\", encoding=\"ISO-8859-1\")\n",
    "df.head()\n",
    "\n"
   ]
  },
  {
   "cell_type": "code",
   "execution_count": 5,
   "id": "9c278023-6409-463c-b6ec-ee868eada497",
   "metadata": {},
   "outputs": [
    {
     "name": "stdout",
     "output_type": "stream",
     "text": [
      "<class 'pandas.core.frame.DataFrame'>\n",
      "RangeIndex: 9994 entries, 0 to 9993\n",
      "Data columns (total 21 columns):\n",
      " #   Column         Non-Null Count  Dtype  \n",
      "---  ------         --------------  -----  \n",
      " 0   Row ID         9994 non-null   int64  \n",
      " 1   Order ID       9994 non-null   object \n",
      " 2   Order Date     9994 non-null   object \n",
      " 3   Ship Date      9994 non-null   object \n",
      " 4   Ship Mode      9994 non-null   object \n",
      " 5   Customer ID    9994 non-null   object \n",
      " 6   Customer Name  9994 non-null   object \n",
      " 7   Segment        9994 non-null   object \n",
      " 8   Country        9994 non-null   object \n",
      " 9   City           9994 non-null   object \n",
      " 10  State          9994 non-null   object \n",
      " 11  Postal Code    9994 non-null   int64  \n",
      " 12  Region         9994 non-null   object \n",
      " 13  Product ID     9994 non-null   object \n",
      " 14  Category       9994 non-null   object \n",
      " 15  Sub-Category   9994 non-null   object \n",
      " 16  Product Name   9994 non-null   object \n",
      " 17  Sales          9994 non-null   float64\n",
      " 18  Quantity       9994 non-null   int64  \n",
      " 19  Discount       9994 non-null   float64\n",
      " 20  Profit         9994 non-null   float64\n",
      "dtypes: float64(3), int64(3), object(15)\n",
      "memory usage: 1.6+ MB\n"
     ]
    }
   ],
   "source": [
    "df.info()"
   ]
  },
  {
   "cell_type": "code",
   "execution_count": 6,
   "id": "74c70a0c-7a0a-4665-b87b-c98e2798c233",
   "metadata": {},
   "outputs": [],
   "source": [
    "#a filling null values"
   ]
  },
  {
   "cell_type": "code",
   "execution_count": 7,
   "id": "c7cf0218-768a-4358-b441-4bd9941132e0",
   "metadata": {},
   "outputs": [
    {
     "name": "stderr",
     "output_type": "stream",
     "text": [
      "C:\\Users\\chauh\\AppData\\Local\\Temp\\ipykernel_17608\\392759916.py:1: FutureWarning: A value is trying to be set on a copy of a DataFrame or Series through chained assignment using an inplace method.\n",
      "The behavior will change in pandas 3.0. This inplace method will never work because the intermediate object on which we are setting values always behaves as a copy.\n",
      "\n",
      "For example, when doing 'df[col].method(value, inplace=True)', try using 'df.method({col: value}, inplace=True)' or df[col] = df[col].method(value) instead, to perform the operation inplace on the original object.\n",
      "\n",
      "\n",
      "  df[\"Postal Code\"].fillna(0 , inplace= True)\n"
     ]
    }
   ],
   "source": [
    "df[\"Postal Code\"].fillna(0 , inplace= True)"
   ]
  },
  {
   "cell_type": "code",
   "execution_count": 8,
   "id": "88c4897c-f8ac-4c01-bb88-7200db2985c8",
   "metadata": {},
   "outputs": [],
   "source": [
    "df[\"Postal Code\"] = df[\"Postal Code\"].astype(int)"
   ]
  },
  {
   "cell_type": "code",
   "execution_count": 9,
   "id": "c1811503-06fa-42d6-9544-b26034a0db93",
   "metadata": {},
   "outputs": [
    {
     "name": "stdout",
     "output_type": "stream",
     "text": [
      "<class 'pandas.core.frame.DataFrame'>\n",
      "RangeIndex: 9994 entries, 0 to 9993\n",
      "Data columns (total 21 columns):\n",
      " #   Column         Non-Null Count  Dtype  \n",
      "---  ------         --------------  -----  \n",
      " 0   Row ID         9994 non-null   int64  \n",
      " 1   Order ID       9994 non-null   object \n",
      " 2   Order Date     9994 non-null   object \n",
      " 3   Ship Date      9994 non-null   object \n",
      " 4   Ship Mode      9994 non-null   object \n",
      " 5   Customer ID    9994 non-null   object \n",
      " 6   Customer Name  9994 non-null   object \n",
      " 7   Segment        9994 non-null   object \n",
      " 8   Country        9994 non-null   object \n",
      " 9   City           9994 non-null   object \n",
      " 10  State          9994 non-null   object \n",
      " 11  Postal Code    9994 non-null   int32  \n",
      " 12  Region         9994 non-null   object \n",
      " 13  Product ID     9994 non-null   object \n",
      " 14  Category       9994 non-null   object \n",
      " 15  Sub-Category   9994 non-null   object \n",
      " 16  Product Name   9994 non-null   object \n",
      " 17  Sales          9994 non-null   float64\n",
      " 18  Quantity       9994 non-null   int64  \n",
      " 19  Discount       9994 non-null   float64\n",
      " 20  Profit         9994 non-null   float64\n",
      "dtypes: float64(3), int32(1), int64(2), object(15)\n",
      "memory usage: 1.6+ MB\n"
     ]
    }
   ],
   "source": [
    "df.info()"
   ]
  },
  {
   "cell_type": "code",
   "execution_count": 10,
   "id": "2cb63475-dde4-4bb3-b1d0-d0e8e84734a8",
   "metadata": {},
   "outputs": [
    {
     "name": "stdout",
     "output_type": "stream",
     "text": [
      "Doesn't exists\n"
     ]
    }
   ],
   "source": [
    "if df.duplicated().sum()>0:\n",
    "    print(\"Duplicate exists\")\n",
    "else:\n",
    "    print(\"Doesn't exists\")"
   ]
  },
  {
   "cell_type": "code",
   "execution_count": 11,
   "id": "2c2877c9-5d40-4d2b-8a74-3c697af10140",
   "metadata": {},
   "outputs": [
    {
     "data": {
      "text/html": [
       "<div>\n",
       "<style scoped>\n",
       "    .dataframe tbody tr th:only-of-type {\n",
       "        vertical-align: middle;\n",
       "    }\n",
       "\n",
       "    .dataframe tbody tr th {\n",
       "        vertical-align: top;\n",
       "    }\n",
       "\n",
       "    .dataframe thead th {\n",
       "        text-align: right;\n",
       "    }\n",
       "</style>\n",
       "<table border=\"1\" class=\"dataframe\">\n",
       "  <thead>\n",
       "    <tr style=\"text-align: right;\">\n",
       "      <th></th>\n",
       "      <th>Row ID</th>\n",
       "      <th>Order ID</th>\n",
       "      <th>Order Date</th>\n",
       "      <th>Ship Date</th>\n",
       "      <th>Ship Mode</th>\n",
       "      <th>Customer ID</th>\n",
       "      <th>Customer Name</th>\n",
       "      <th>Segment</th>\n",
       "      <th>Country</th>\n",
       "      <th>City</th>\n",
       "      <th>...</th>\n",
       "      <th>Postal Code</th>\n",
       "      <th>Region</th>\n",
       "      <th>Product ID</th>\n",
       "      <th>Category</th>\n",
       "      <th>Sub-Category</th>\n",
       "      <th>Product Name</th>\n",
       "      <th>Sales</th>\n",
       "      <th>Quantity</th>\n",
       "      <th>Discount</th>\n",
       "      <th>Profit</th>\n",
       "    </tr>\n",
       "  </thead>\n",
       "  <tbody>\n",
       "    <tr>\n",
       "      <th>0</th>\n",
       "      <td>1</td>\n",
       "      <td>CA-2016-152156</td>\n",
       "      <td>11-08-2016</td>\n",
       "      <td>11-11-2016</td>\n",
       "      <td>Second Class</td>\n",
       "      <td>CG-12520</td>\n",
       "      <td>Claire Gute</td>\n",
       "      <td>Consumer</td>\n",
       "      <td>United States</td>\n",
       "      <td>Henderson</td>\n",
       "      <td>...</td>\n",
       "      <td>42420</td>\n",
       "      <td>South</td>\n",
       "      <td>FUR-BO-10001798</td>\n",
       "      <td>Furniture</td>\n",
       "      <td>Bookcases</td>\n",
       "      <td>Bush Somerset Collection Bookcase</td>\n",
       "      <td>261.9600</td>\n",
       "      <td>2</td>\n",
       "      <td>0.00</td>\n",
       "      <td>41.9136</td>\n",
       "    </tr>\n",
       "    <tr>\n",
       "      <th>1</th>\n",
       "      <td>2</td>\n",
       "      <td>CA-2016-152156</td>\n",
       "      <td>11-08-2016</td>\n",
       "      <td>11-11-2016</td>\n",
       "      <td>Second Class</td>\n",
       "      <td>CG-12520</td>\n",
       "      <td>Claire Gute</td>\n",
       "      <td>Consumer</td>\n",
       "      <td>United States</td>\n",
       "      <td>Henderson</td>\n",
       "      <td>...</td>\n",
       "      <td>42420</td>\n",
       "      <td>South</td>\n",
       "      <td>FUR-CH-10000454</td>\n",
       "      <td>Furniture</td>\n",
       "      <td>Chairs</td>\n",
       "      <td>Hon Deluxe Fabric Upholstered Stacking Chairs,...</td>\n",
       "      <td>731.9400</td>\n",
       "      <td>3</td>\n",
       "      <td>0.00</td>\n",
       "      <td>219.5820</td>\n",
       "    </tr>\n",
       "    <tr>\n",
       "      <th>2</th>\n",
       "      <td>3</td>\n",
       "      <td>CA-2016-138688</td>\n",
       "      <td>06-12-2016</td>\n",
       "      <td>6/16/2016</td>\n",
       "      <td>Second Class</td>\n",
       "      <td>DV-13045</td>\n",
       "      <td>Darrin Van Huff</td>\n",
       "      <td>Corporate</td>\n",
       "      <td>United States</td>\n",
       "      <td>Los Angeles</td>\n",
       "      <td>...</td>\n",
       "      <td>90036</td>\n",
       "      <td>West</td>\n",
       "      <td>OFF-LA-10000240</td>\n",
       "      <td>Office Supplies</td>\n",
       "      <td>Labels</td>\n",
       "      <td>Self-Adhesive Address Labels for Typewriters b...</td>\n",
       "      <td>14.6200</td>\n",
       "      <td>2</td>\n",
       "      <td>0.00</td>\n",
       "      <td>6.8714</td>\n",
       "    </tr>\n",
       "    <tr>\n",
       "      <th>3</th>\n",
       "      <td>4</td>\n",
       "      <td>US-2015-108966</td>\n",
       "      <td>10-11-2015</td>\n",
       "      <td>10/18/2015</td>\n",
       "      <td>Standard Class</td>\n",
       "      <td>SO-20335</td>\n",
       "      <td>Sean O'Donnell</td>\n",
       "      <td>Consumer</td>\n",
       "      <td>United States</td>\n",
       "      <td>Fort Lauderdale</td>\n",
       "      <td>...</td>\n",
       "      <td>33311</td>\n",
       "      <td>South</td>\n",
       "      <td>FUR-TA-10000577</td>\n",
       "      <td>Furniture</td>\n",
       "      <td>Tables</td>\n",
       "      <td>Bretford CR4500 Series Slim Rectangular Table</td>\n",
       "      <td>957.5775</td>\n",
       "      <td>5</td>\n",
       "      <td>0.45</td>\n",
       "      <td>-383.0310</td>\n",
       "    </tr>\n",
       "    <tr>\n",
       "      <th>4</th>\n",
       "      <td>5</td>\n",
       "      <td>US-2015-108966</td>\n",
       "      <td>10-11-2015</td>\n",
       "      <td>10/18/2015</td>\n",
       "      <td>Standard Class</td>\n",
       "      <td>SO-20335</td>\n",
       "      <td>Sean O'Donnell</td>\n",
       "      <td>Consumer</td>\n",
       "      <td>United States</td>\n",
       "      <td>Fort Lauderdale</td>\n",
       "      <td>...</td>\n",
       "      <td>33311</td>\n",
       "      <td>South</td>\n",
       "      <td>OFF-ST-10000760</td>\n",
       "      <td>Office Supplies</td>\n",
       "      <td>Storage</td>\n",
       "      <td>Eldon Fold 'N Roll Cart System</td>\n",
       "      <td>22.3680</td>\n",
       "      <td>2</td>\n",
       "      <td>0.20</td>\n",
       "      <td>2.5164</td>\n",
       "    </tr>\n",
       "  </tbody>\n",
       "</table>\n",
       "<p>5 rows × 21 columns</p>\n",
       "</div>"
      ],
      "text/plain": [
       "   Row ID        Order ID  Order Date   Ship Date       Ship Mode Customer ID  \\\n",
       "0       1  CA-2016-152156  11-08-2016  11-11-2016    Second Class    CG-12520   \n",
       "1       2  CA-2016-152156  11-08-2016  11-11-2016    Second Class    CG-12520   \n",
       "2       3  CA-2016-138688  06-12-2016   6/16/2016    Second Class    DV-13045   \n",
       "3       4  US-2015-108966  10-11-2015  10/18/2015  Standard Class    SO-20335   \n",
       "4       5  US-2015-108966  10-11-2015  10/18/2015  Standard Class    SO-20335   \n",
       "\n",
       "     Customer Name    Segment        Country             City  ...  \\\n",
       "0      Claire Gute   Consumer  United States        Henderson  ...   \n",
       "1      Claire Gute   Consumer  United States        Henderson  ...   \n",
       "2  Darrin Van Huff  Corporate  United States      Los Angeles  ...   \n",
       "3   Sean O'Donnell   Consumer  United States  Fort Lauderdale  ...   \n",
       "4   Sean O'Donnell   Consumer  United States  Fort Lauderdale  ...   \n",
       "\n",
       "  Postal Code  Region       Product ID         Category Sub-Category  \\\n",
       "0       42420   South  FUR-BO-10001798        Furniture    Bookcases   \n",
       "1       42420   South  FUR-CH-10000454        Furniture       Chairs   \n",
       "2       90036    West  OFF-LA-10000240  Office Supplies       Labels   \n",
       "3       33311   South  FUR-TA-10000577        Furniture       Tables   \n",
       "4       33311   South  OFF-ST-10000760  Office Supplies      Storage   \n",
       "\n",
       "                                        Product Name     Sales  Quantity  \\\n",
       "0                  Bush Somerset Collection Bookcase  261.9600         2   \n",
       "1  Hon Deluxe Fabric Upholstered Stacking Chairs,...  731.9400         3   \n",
       "2  Self-Adhesive Address Labels for Typewriters b...   14.6200         2   \n",
       "3      Bretford CR4500 Series Slim Rectangular Table  957.5775         5   \n",
       "4                     Eldon Fold 'N Roll Cart System   22.3680         2   \n",
       "\n",
       "   Discount    Profit  \n",
       "0      0.00   41.9136  \n",
       "1      0.00  219.5820  \n",
       "2      0.00    6.8714  \n",
       "3      0.45 -383.0310  \n",
       "4      0.20    2.5164  \n",
       "\n",
       "[5 rows x 21 columns]"
      ]
     },
     "execution_count": 11,
     "metadata": {},
     "output_type": "execute_result"
    }
   ],
   "source": [
    "df.head()"
   ]
  },
  {
   "cell_type": "code",
   "execution_count": 12,
   "id": "f517b234-5922-4913-b3e8-fa2eaf428ca0",
   "metadata": {},
   "outputs": [],
   "source": [
    "# types of customer"
   ]
  },
  {
   "cell_type": "code",
   "execution_count": 13,
   "id": "e2551460-e5e6-484b-9fc4-97594d2221c3",
   "metadata": {},
   "outputs": [
    {
     "name": "stdout",
     "output_type": "stream",
     "text": [
      "['Consumer' 'Corporate' 'Home Office']\n"
     ]
    }
   ],
   "source": [
    "types_of_customers = df[\"Segment\"].unique()\n",
    "print(types_of_customers) "
   ]
  },
  {
   "cell_type": "code",
   "execution_count": 14,
   "id": "fa6a60cb-8bbe-4194-b6ee-d602e7e13a0f",
   "metadata": {},
   "outputs": [],
   "source": [
    "number_of_customer = df[\"Segment\"].value_counts().reset_index()\n",
    "number_of_customer = number_of_customer.rename(columns= {\"Segment\":\"Types of customer\"})"
   ]
  },
  {
   "cell_type": "code",
   "execution_count": 15,
   "id": "d2f18446-5a64-4ded-ab02-4bf709ba0a96",
   "metadata": {},
   "outputs": [
    {
     "name": "stdout",
     "output_type": "stream",
     "text": [
      "  Types of customer  count\n",
      "0          Consumer   5191\n",
      "1         Corporate   3020\n",
      "2       Home Office   1783\n"
     ]
    }
   ],
   "source": [
    "print(number_of_customer)"
   ]
  },
  {
   "cell_type": "code",
   "execution_count": 16,
   "id": "dd2fc04d-0c75-431d-899c-6c02ddb1e962",
   "metadata": {},
   "outputs": [
    {
     "data": {
      "text/plain": [
       "([<matplotlib.patches.Wedge at 0x28755b14a40>,\n",
       "  <matplotlib.patches.Wedge at 0x28755a4a7e0>,\n",
       "  <matplotlib.patches.Wedge at 0x28755654d40>],\n",
       " [Text(-0.06704018356682018, 1.0979551966211223, 'Consumer'),\n",
       "  Text(-0.5268843289816147, -0.9656049419268699, 'Corporate'),\n",
       "  Text(0.9316986195588344, -0.5847543777622897, 'Home Office')],\n",
       " [Text(-0.03656737285462918, 0.5988846527024302, '51.9%'),\n",
       "  Text(-0.28739145217178985, -0.5266936046873835, '30.2%'),\n",
       "  Text(0.5081992470320914, -0.31895693332488523, '17.8%')])"
      ]
     },
     "execution_count": 16,
     "metadata": {},
     "output_type": "execute_result"
    },
    {
     "data": {
      "image/png": "[encoded data removed]",
      "text/plain": [
       "<Figure size 640x480 with 1 Axes>"
      ]
     },
     "metadata": {},
     "output_type": "display_data"
    }
   ],
   "source": [
    "plt.pie(number_of_customer['count'], labels = number_of_customer['Types of customer'], autopct='%1.1f%%' )"
   ]
  },
  {
   "cell_type": "code",
   "execution_count": 17,
   "id": "610c8a78-c6c5-425e-a391-f37e1a8bf48a",
   "metadata": {},
   "outputs": [],
   "source": [
    "sales_per_segment = df.groupby(\"Segment\")[\"Sales\"].sum().reset_index()\n",
    "sales_per_segment = sales_per_segment.rename(columns= {\"Segment\":'Types of customer', \"Sales\":'total sales'})"
   ]
  },
  {
   "cell_type": "code",
   "execution_count": 18,
   "id": "e5bc323f-f39d-4515-97a3-02bc344caf3f",
   "metadata": {},
   "outputs": [
    {
     "name": "stdout",
     "output_type": "stream",
     "text": [
      "  Types of customer   total sales\n",
      "0          Consumer  1.161401e+06\n",
      "1         Corporate  7.061464e+05\n",
      "2       Home Office  4.296531e+05\n"
     ]
    }
   ],
   "source": [
    "print(sales_per_segment)"
   ]
  },
  {
   "cell_type": "code",
   "execution_count": 19,
   "id": "0f8814db-9dcc-4b43-9e9c-064c8bbdc737",
   "metadata": {},
   "outputs": [
    {
     "data": {
      "text/plain": [
       "<BarContainer object of 3 artists>"
      ]
     },
     "execution_count": 19,
     "metadata": {},
     "output_type": "execute_result"
    },
    {
     "data": {
      "image/png": "[encoded data removed]",
      "text/plain": [
       "<Figure size 640x480 with 1 Axes>"
      ]
     },
     "metadata": {},
     "output_type": "display_data"
    }
   ],
   "source": [
    "plt.bar(sales_per_segment[\"Types of customer\"],sales_per_segment['total sales'])"
   ]
  },
  {
   "cell_type": "code",
   "execution_count": 20,
   "id": "67dfc740-44b9-49c1-b7ce-c32952ecef83",
   "metadata": {},
   "outputs": [
    {
     "data": {
      "text/plain": [
       "([<matplotlib.patches.Wedge at 0x28755713350>,\n",
       "  <matplotlib.patches.Wedge at 0x2875567c9e0>,\n",
       "  <matplotlib.patches.Wedge at 0x2875587b920>],\n",
       " [Text(-0.019255774590196492, 1.0998314485160587, 'Consumer'),\n",
       "  Text(-0.5936661576864369, -0.9260456215639825, 'Corporate'),\n",
       "  Text(0.9155113363994682, -0.609786022243918, 'Home Office')],\n",
       " [Text(-0.010503149776470813, 0.599908062826941, '50.6%'),\n",
       "  Text(-0.3238179041926019, -0.5051157935803541, '30.7%'),\n",
       "  Text(0.4993698198542553, -0.33261055758759156, '18.7%')])"
      ]
     },
     "execution_count": 20,
     "metadata": {},
     "output_type": "execute_result"
    },
    {
     "data": {
      "image/png": "[encoded data removed]",
      "text/plain": [
       "<Figure size 640x480 with 1 Axes>"
      ]
     },
     "metadata": {},
     "output_type": "display_data"
    }
   ],
   "source": [
    "plt.pie(sales_per_segment['total sales'] , labels = sales_per_segment['Types of customer'], autopct='%1.1f%%')"
   ]
  },
  {
   "cell_type": "code",
   "execution_count": 21,
   "id": "b58a23b6-1be3-4850-acb1-805bbb10b864",
   "metadata": {},
   "outputs": [],
   "source": [
    "customer_order_frequency = df.groupby(['Customer ID' , 'Customer Name' , 'Segment'])['Order ID'].count().reset_index()"
   ]
  },
  {
   "cell_type": "code",
   "execution_count": 22,
   "id": "2f66fe7c-27aa-4ba1-9c62-9c850c9c3643",
   "metadata": {},
   "outputs": [],
   "source": [
    "customer_order_frequency.rename(columns= {'Order ID': 'Total Order' }, inplace = True)"
   ]
  },
  {
   "cell_type": "code",
   "execution_count": 23,
   "id": "3ed6453e-0248-4c69-855f-3bc7f27e3e7f",
   "metadata": {},
   "outputs": [],
   "source": [
    "repeat_customer = customer_order_frequency[customer_order_frequency['Total Order']>= 1]\n"
   ]
  },
  {
   "cell_type": "code",
   "execution_count": 24,
   "id": "3949337f-90b5-4614-9436-b11c31cc24c6",
   "metadata": {},
   "outputs": [],
   "source": [
    "repeat_customer_sorted = repeat_customer.sort_values(by = 'Total Order', ascending = False)"
   ]
  },
  {
   "cell_type": "code",
   "execution_count": 25,
   "id": "7f0272e9-f88c-443d-b924-ca12f90cb140",
   "metadata": {},
   "outputs": [
    {
     "name": "stdout",
     "output_type": "stream",
     "text": [
      "   Customer ID        Customer Name      Segment  Total Order\n",
      "0     WB-21850        William Brown     Consumer           37\n",
      "1     PP-18955           Paul Prost  Home Office           34\n",
      "2     JL-15835             John Lee     Consumer           34\n",
      "3     MA-17560         Matt Abelman  Home Office           34\n",
      "4     SV-20365          Seth Vernon     Consumer           32\n",
      "5     JD-15895     Jonathan Doherty    Corporate           32\n",
      "6     CK-12205  Chloris Kastensmidt     Consumer           32\n",
      "7     EH-13765         Edward Hooks    Corporate           32\n",
      "8     EP-13915           Emily Phan     Consumer           31\n",
      "9     ZC-21910     Zuschuss Carroll     Consumer           31\n",
      "10    AP-10915       Arthur Prichep     Consumer           31\n",
      "11    LC-16870        Lena Cacioppo     Consumer           30\n",
      "12    SH-19975        Sally Hughsby    Corporate           29\n",
      "13    KL-16645         Ken Lonsdale     Consumer           29\n",
      "14    Dp-13240          Dean percer  Home Office           29\n",
      "15    GT-14710            Greg Tran     Consumer           29\n",
      "16    BM-11650           Brian Moss    Corporate           29\n",
      "17    CL-12565          Clay Ludtke     Consumer           28\n",
      "18    CS-12250      Chris Selesnick    Corporate           28\n",
      "19    XP-21865         Xylona Preis     Consumer           28\n"
     ]
    }
   ],
   "source": [
    "print(repeat_customer_sorted.head(20).reset_index(drop = True))"
   ]
  },
  {
   "cell_type": "code",
   "execution_count": 26,
   "id": "e80e28ed-201f-4326-b917-4329dd608032",
   "metadata": {},
   "outputs": [],
   "source": [
    "customer_sales = df.groupby(['Customer ID' , 'Customer Name' , 'Segment'])['Sales'].sum().reset_index()"
   ]
  },
  {
   "cell_type": "code",
   "execution_count": 27,
   "id": "8b330c37-48ed-472c-9470-3abc72472aab",
   "metadata": {},
   "outputs": [
    {
     "name": "stdout",
     "output_type": "stream",
     "text": [
      "   Customer ID       Customer Name      Segment      Sales\n",
      "0     SM-20320         Sean Miller  Home Office  25043.050\n",
      "1     TC-20980        Tamara Chand    Corporate  19052.218\n",
      "2     RB-19360        Raymond Buch     Consumer  15117.339\n",
      "3     TA-21385        Tom Ashbrook  Home Office  14595.620\n",
      "4     AB-10105       Adrian Barton     Consumer  14473.571\n",
      "5     KL-16645        Ken Lonsdale     Consumer  14175.229\n",
      "6     SC-20095        Sanjit Chand     Consumer  14142.334\n",
      "7     HL-15040        Hunter Lopez     Consumer  12873.298\n",
      "8     SE-20110        Sanjit Engle     Consumer  12209.438\n",
      "9     CC-12370  Christopher Conant     Consumer  12129.072\n",
      "10    TS-21370        Todd Sumrall    Corporate  11891.751\n",
      "11    GT-14710           Greg Tran     Consumer  11820.120\n",
      "12    BM-11140        Becky Martin     Consumer  11789.630\n",
      "13    SV-20365         Seth Vernon     Consumer  11470.950\n",
      "14    CJ-12010     Caroline Jumper     Consumer  11164.974\n",
      "15    CL-12565         Clay Ludtke     Consumer  10880.546\n",
      "16    ME-17320       Maria Etezadi  Home Office  10663.728\n",
      "17    KF-16285      Karen Ferguson  Home Office  10604.266\n",
      "18    BS-11365        Bill Shonely    Corporate  10501.653\n",
      "19    EH-13765        Edward Hooks    Corporate  10310.880\n"
     ]
    }
   ],
   "source": [
    "top_spender = customer_sales.sort_values(by = 'Sales',ascending = False)\n",
    "print(top_spender.head(20).reset_index(drop = True))"
   ]
  },
  {
   "cell_type": "code",
   "execution_count": 28,
   "id": "4eeb228a-01a0-4889-af4e-ded017a4880c",
   "metadata": {},
   "outputs": [
    {
     "name": "stdout",
     "output_type": "stream",
     "text": [
      "  Mode of shipment  Use Frequency\n",
      "0   Standard Class           5968\n",
      "1     Second Class           1945\n",
      "2      First Class           1538\n",
      "3         Same Day            543\n",
      "['Mode of shipment', 'Use Frequency']\n"
     ]
    }
   ],
   "source": [
    "shipping_model = df['Ship Mode'].value_counts().reset_index()\n",
    "shipping_model = shipping_model.rename(columns={'count': 'Use Frequency', 'Ship Mode': 'Mode of shipment'})\n",
    "\n",
    "print(shipping_model)\n",
    "print(shipping_model.columns.tolist())  \n"
   ]
  },
  {
   "cell_type": "code",
   "execution_count": 29,
   "id": "97eb41ea-2790-4974-a69f-ee9ee8228429",
   "metadata": {},
   "outputs": [
    {
     "data": {
      "image/png": "[encoded data removed]",
      "text/plain": [
       "<Figure size 640x480 with 1 Axes>"
      ]
     },
     "metadata": {},
     "output_type": "display_data"
    }
   ],
   "source": [
    "\n",
    "plt.pie(shipping_model[\"Use Frequency\"], labels=shipping_model[\"Mode of shipment\"], autopct='%1.1f%%')\n",
    "plt.title(\"Distribution of Shipment Modes\")\n",
    "plt.show()\n"
   ]
  },
  {
   "cell_type": "code",
   "execution_count": 30,
   "id": "cbe420cd-9cb9-436d-ac95-f72f8f42a270",
   "metadata": {},
   "outputs": [
    {
     "name": "stdout",
     "output_type": "stream",
     "text": [
      "   number of customer  State\n",
      "0          California   2001\n",
      "1            New York   1128\n",
      "2               Texas    985\n",
      "3        Pennsylvania    587\n",
      "4          Washington    506\n",
      "5            Illinois    492\n",
      "6                Ohio    469\n",
      "7             Florida    383\n",
      "8            Michigan    255\n",
      "9      North Carolina    249\n",
      "10            Arizona    224\n",
      "11           Virginia    224\n",
      "12            Georgia    184\n",
      "13          Tennessee    183\n",
      "14           Colorado    182\n",
      "15            Indiana    149\n",
      "16           Kentucky    139\n",
      "17      Massachusetts    135\n",
      "18         New Jersey    130\n",
      "19             Oregon    124\n"
     ]
    }
   ],
   "source": [
    "state = df['State'].value_counts().reset_index()\n",
    "state = state.rename(columns={'count':'State', 'State':'number of customer'})\n",
    "print(state.head(20))"
   ]
  },
  {
   "cell_type": "code",
   "execution_count": 31,
   "id": "d3af055b-5d95-4ba6-9720-658ea644e45d",
   "metadata": {},
   "outputs": [
    {
     "name": "stdout",
     "output_type": "stream",
     "text": [
      "             City  count\n",
      "0   New York City    915\n",
      "1     Los Angeles    747\n",
      "2    Philadelphia    537\n",
      "3   San Francisco    510\n",
      "4         Seattle    428\n",
      "5         Houston    377\n",
      "6         Chicago    314\n",
      "7        Columbus    222\n",
      "8       San Diego    170\n",
      "9     Springfield    163\n",
      "10         Dallas    157\n",
      "11   Jacksonville    125\n",
      "12        Detroit    115\n",
      "13         Newark     95\n",
      "14       Richmond     90\n",
      "15        Jackson     82\n",
      "16       Columbia     81\n",
      "17         Aurora     68\n",
      "18        Phoenix     63\n",
      "19     Long Beach     61\n"
     ]
    }
   ],
   "source": [
    "city = df['City'].value_counts().reset_index()\n",
    "print(city.head(20))"
   ]
  },
  {
   "cell_type": "code",
   "execution_count": 32,
   "id": "4db792bb-1736-4a58-82af-74e9b2418282",
   "metadata": {},
   "outputs": [
    {
     "name": "stdout",
     "output_type": "stream",
     "text": [
      "             State        Sales\n",
      "0       California  457687.6315\n",
      "1         New York  310876.2710\n",
      "2            Texas  170188.0458\n",
      "3       Washington  138641.2700\n",
      "4     Pennsylvania  116511.9140\n",
      "5          Florida   89473.7080\n",
      "6         Illinois   80166.1010\n",
      "7             Ohio   78258.1360\n",
      "8         Michigan   76269.6140\n",
      "9         Virginia   70636.7200\n",
      "10  North Carolina   55603.1640\n",
      "11         Indiana   53555.3600\n",
      "12         Georgia   49095.8400\n",
      "13        Kentucky   36591.7500\n",
      "14      New Jersey   35764.3120\n",
      "15         Arizona   35282.0010\n",
      "16       Wisconsin   32114.6100\n",
      "17        Colorado   32108.1180\n",
      "18       Tennessee   30661.8730\n",
      "19       Minnesota   29863.1500\n"
     ]
    }
   ],
   "source": [
    "\n",
    "state_sales = df.groupby(['State'])['Sales'].sum().reset_index()\n",
    "top_sales = state_sales.sort_values(by = 'Sales',ascending= False)\n",
    "print(top_sales.head(20).reset_index(drop = True))"
   ]
  },
  {
   "cell_type": "code",
   "execution_count": 33,
   "id": "03293899-df36-449d-9cb0-a6a19f636151",
   "metadata": {},
   "outputs": [
    {
     "name": "stdout",
     "output_type": "stream",
     "text": [
      "             City        Sales\n",
      "0   New York City  256368.1610\n",
      "1     Los Angeles  175851.3410\n",
      "2         Seattle  119540.7420\n",
      "3   San Francisco  112669.0920\n",
      "4    Philadelphia  109077.0130\n",
      "5         Houston   64504.7604\n",
      "6         Chicago   48539.5410\n",
      "7       San Diego   47521.0290\n",
      "8    Jacksonville   44713.1830\n",
      "9     Springfield   43054.3420\n",
      "10        Detroit   42446.9440\n",
      "11       Columbus   38706.2430\n",
      "12         Newark   28576.1190\n",
      "13       Columbia   25283.3240\n",
      "14      Lafayette   25036.2000\n",
      "15        Jackson   24963.8580\n",
      "16    San Antonio   21843.5280\n",
      "17     Burlington   21668.0820\n",
      "18      Arlington   20214.5320\n",
      "19         Dallas   20131.9322\n"
     ]
    }
   ],
   "source": [
    "city_sales = df.groupby(['City'])['Sales'].sum().reset_index()\n",
    "top_city_sales = city_sales.sort_values(by = 'Sales',ascending = False)\n",
    "print(top_city_sales.head(20).reset_index(drop = True))"
   ]
  },
  {
   "cell_type": "code",
   "execution_count": 34,
   "id": "3ab518bb-5482-4e65-b2d6-bce4b4fa9ef7",
   "metadata": {},
   "outputs": [
    {
     "name": "stdout",
     "output_type": "stream",
     "text": [
      "['Furniture' 'Office Supplies' 'Technology']\n"
     ]
    }
   ],
   "source": [
    "product = df['Category'].unique()\n",
    "print(product)"
   ]
  },
  {
   "cell_type": "code",
   "execution_count": 35,
   "id": "d41c9cce-4567-4a77-ad09-8693c3c355a5",
   "metadata": {},
   "outputs": [
    {
     "data": {
      "text/plain": [
       "<bound method NDFrame.head of       Row ID        Order ID  Order Date   Ship Date       Ship Mode  \\\n",
       "0          1  CA-2016-152156  11-08-2016  11-11-2016    Second Class   \n",
       "1          2  CA-2016-152156  11-08-2016  11-11-2016    Second Class   \n",
       "2          3  CA-2016-138688  06-12-2016   6/16/2016    Second Class   \n",
       "3          4  US-2015-108966  10-11-2015  10/18/2015  Standard Class   \n",
       "4          5  US-2015-108966  10-11-2015  10/18/2015  Standard Class   \n",
       "...      ...             ...         ...         ...             ...   \n",
       "9989    9990  CA-2014-110422   1/21/2014   1/23/2014    Second Class   \n",
       "9990    9991  CA-2017-121258   2/26/2017  03-03-2017  Standard Class   \n",
       "9991    9992  CA-2017-121258   2/26/2017  03-03-2017  Standard Class   \n",
       "9992    9993  CA-2017-121258   2/26/2017  03-03-2017  Standard Class   \n",
       "9993    9994  CA-2017-119914  05-04-2017  05-09-2017    Second Class   \n",
       "\n",
       "     Customer ID     Customer Name    Segment        Country             City  \\\n",
       "0       CG-12520       Claire Gute   Consumer  United States        Henderson   \n",
       "1       CG-12520       Claire Gute   Consumer  United States        Henderson   \n",
       "2       DV-13045   Darrin Van Huff  Corporate  United States      Los Angeles   \n",
       "3       SO-20335    Sean O'Donnell   Consumer  United States  Fort Lauderdale   \n",
       "4       SO-20335    Sean O'Donnell   Consumer  United States  Fort Lauderdale   \n",
       "...          ...               ...        ...            ...              ...   \n",
       "9989    TB-21400  Tom Boeckenhauer   Consumer  United States            Miami   \n",
       "9990    DB-13060       Dave Brooks   Consumer  United States       Costa Mesa   \n",
       "9991    DB-13060       Dave Brooks   Consumer  United States       Costa Mesa   \n",
       "9992    DB-13060       Dave Brooks   Consumer  United States       Costa Mesa   \n",
       "9993    CC-12220      Chris Cortes   Consumer  United States      Westminster   \n",
       "\n",
       "      ... Postal Code  Region       Product ID         Category Sub-Category  \\\n",
       "0     ...       42420   South  FUR-BO-10001798        Furniture    Bookcases   \n",
       "1     ...       42420   South  FUR-CH-10000454        Furniture       Chairs   \n",
       "2     ...       90036    West  OFF-LA-10000240  Office Supplies       Labels   \n",
       "3     ...       33311   South  FUR-TA-10000577        Furniture       Tables   \n",
       "4     ...       33311   South  OFF-ST-10000760  Office Supplies      Storage   \n",
       "...   ...         ...     ...              ...              ...          ...   \n",
       "9989  ...       33180   South  FUR-FU-10001889        Furniture  Furnishings   \n",
       "9990  ...       92627    West  FUR-FU-10000747        Furniture  Furnishings   \n",
       "9991  ...       92627    West  TEC-PH-10003645       Technology       Phones   \n",
       "9992  ...       92627    West  OFF-PA-10004041  Office Supplies        Paper   \n",
       "9993  ...       92683    West  OFF-AP-10002684  Office Supplies   Appliances   \n",
       "\n",
       "                                           Product Name     Sales  Quantity  \\\n",
       "0                     Bush Somerset Collection Bookcase  261.9600         2   \n",
       "1     Hon Deluxe Fabric Upholstered Stacking Chairs,...  731.9400         3   \n",
       "2     Self-Adhesive Address Labels for Typewriters b...   14.6200         2   \n",
       "3         Bretford CR4500 Series Slim Rectangular Table  957.5775         5   \n",
       "4                        Eldon Fold 'N Roll Cart System   22.3680         2   \n",
       "...                                                 ...       ...       ...   \n",
       "9989                             Ultra Door Pull Handle   25.2480         3   \n",
       "9990  Tenex B1-RE Series Chair Mats for Low Pile Car...   91.9600         2   \n",
       "9991                              Aastra 57i VoIP phone  258.5760         2   \n",
       "9992  It's Hot Message Books with Stickers, 2 3/4\" x 5\"   29.6000         4   \n",
       "9993  Acco 7-Outlet Masterpiece Power Center, Wihtou...  243.1600         2   \n",
       "\n",
       "      Discount    Profit  \n",
       "0         0.00   41.9136  \n",
       "1         0.00  219.5820  \n",
       "2         0.00    6.8714  \n",
       "3         0.45 -383.0310  \n",
       "4         0.20    2.5164  \n",
       "...        ...       ...  \n",
       "9989      0.20    4.1028  \n",
       "9990      0.00   15.6332  \n",
       "9991      0.20   19.3932  \n",
       "9992      0.00   13.3200  \n",
       "9993      0.00   72.9480  \n",
       "\n",
       "[9994 rows x 21 columns]>"
      ]
     },
     "execution_count": 35,
     "metadata": {},
     "output_type": "execute_result"
    }
   ],
   "source": [
    "df.head\n"
   ]
  },
  {
   "cell_type": "code",
   "execution_count": 36,
   "id": "24e33ae9-eb83-4791-947a-389320dd323b",
   "metadata": {},
   "outputs": [
    {
     "name": "stdout",
     "output_type": "stream",
     "text": [
      "['Bookcases' 'Chairs' 'Labels' 'Tables' 'Storage' 'Furnishings' 'Art'\n",
      " 'Phones' 'Binders' 'Appliances' 'Paper' 'Accessories' 'Envelopes'\n",
      " 'Fasteners' 'Supplies' 'Machines' 'Copiers']\n"
     ]
    }
   ],
   "source": [
    "product_subcategory = df['Sub-Category'].unique()\n",
    "print(product_subcategory)\n"
   ]
  },
  {
   "cell_type": "code",
   "execution_count": 37,
   "id": "7b5cb08e-5b11-494c-a79c-939fcace1f70",
   "metadata": {},
   "outputs": [
    {
     "name": "stdout",
     "output_type": "stream",
     "text": [
      "          Category  Sub-Category\n",
      "1  Office Supplies             9\n",
      "0        Furniture             4\n",
      "2       Technology             4\n"
     ]
    }
   ],
   "source": [
    "subcategory_count =  df.groupby('Category')['Sub-Category'].nunique().reset_index()\n",
    "subcategory_count  = subcategory_count .sort_values(by = 'Sub-Category',ascending = False)\n",
    "print(subcategory_count )"
   ]
  },
  {
   "cell_type": "code",
   "execution_count": 38,
   "id": "4c374291-174d-452e-a449-2809e11f4431",
   "metadata": {},
   "outputs": [
    {
     "name": "stdout",
     "output_type": "stream",
     "text": [
      "           Category Sub-Category        Sales\n",
      "16       Technology       Phones  330007.0540\n",
      "1         Furniture       Chairs  328449.1030\n",
      "11  Office Supplies      Storage  223843.6080\n",
      "3         Furniture       Tables  206965.5320\n",
      "6   Office Supplies      Binders  203412.7330\n",
      "15       Technology     Machines  189238.6310\n",
      "13       Technology  Accessories  167380.3180\n",
      "14       Technology      Copiers  149528.0300\n",
      "0         Furniture    Bookcases  114879.9963\n",
      "4   Office Supplies   Appliances  107532.1610\n",
      "2         Furniture  Furnishings   91705.1640\n",
      "10  Office Supplies        Paper   78479.2060\n",
      "12  Office Supplies     Supplies   46673.5380\n",
      "5   Office Supplies          Art   27118.7920\n",
      "7   Office Supplies    Envelopes   16476.4020\n",
      "9   Office Supplies       Labels   12486.3120\n",
      "8   Office Supplies    Fasteners    3024.2800\n"
     ]
    }
   ],
   "source": [
    "subcategory_count_sales = df.groupby( ['Category','Sub-Category'])['Sales'].sum().reset_index()\n",
    "subcategory_count_sales = subcategory_count_sales.sort_values(by ='Sales',ascending = False)\n",
    "print(subcategory_count_sales)"
   ]
  },
  {
   "cell_type": "code",
   "execution_count": 39,
   "id": "a0a1ca17-f69b-4aed-9b3c-8121c9ae4e5f",
   "metadata": {},
   "outputs": [
    {
     "name": "stdout",
     "output_type": "stream",
     "text": [
      "          Category        Sales\n",
      "2       Technology  836154.0330\n",
      "0        Furniture  741999.7953\n",
      "1  Office Supplies  719047.0320\n"
     ]
    }
   ],
   "source": [
    "product_category = df.groupby( ['Category'])['Sales'].sum().reset_index()\n",
    "top_product_category = product_category.sort_values(by ='Sales',ascending = False)\n",
    "print(top_product_category )"
   ]
  },
  {
   "cell_type": "code",
   "execution_count": 40,
   "id": "1ad0ad6c-5da8-466c-bbbf-fefc499ee61e",
   "metadata": {},
   "outputs": [
    {
     "data": {
      "image/png": "[encoded data removed]",
      "text/plain": [
       "<Figure size 640x480 with 1 Axes>"
      ]
     },
     "metadata": {},
     "output_type": "display_data"
    }
   ],
   "source": [
    "plt.pie(top_product_category[\"Sales\"], labels=top_product_category[\"Category\"], autopct='%1.1f%%')\n",
    "plt.title(\"Distribution top_product_category\")\n",
    "plt.show()\n"
   ]
  },
  {
   "cell_type": "code",
   "execution_count": 41,
   "id": "d826d959-a33f-434d-8c65-b7f249df419b",
   "metadata": {},
   "outputs": [
    {
     "data": {
      "text/plain": [
       "<BarContainer object of 17 artists>"
      ]
     },
     "execution_count": 41,
     "metadata": {},
     "output_type": "execute_result"
    },
    {
     "data": {
      "image/png": "[encoded data removed]",
      "text/plain": [
       "<Figure size 640x480 with 1 Axes>"
      ]
     },
     "metadata": {},
     "output_type": "display_data"
    }
   ],
   "source": [
    "subcategory_count_sales = subcategory_count_sales.sort_values(by ='Sales',ascending = False)\n",
    "plt.barh(subcategory_count_sales['Sub-Category'],subcategory_count_sales['Sales'])"
   ]
  },
  {
   "cell_type": "code",
   "execution_count": 42,
   "id": "fd89ae3d-6aa1-497c-a876-b599d370d363",
   "metadata": {},
   "outputs": [
    {
     "name": "stdout",
     "output_type": "stream",
     "text": [
      "object\n"
     ]
    }
   ],
   "source": [
    "print(df['Order Date'].dtype)\n",
    "\n"
   ]
  },
  {
   "cell_type": "code",
   "execution_count": 43,
   "id": "5b585ccc-9c3b-4f01-9807-cb5c68e0f275",
   "metadata": {},
   "outputs": [
    {
     "name": "stdout",
     "output_type": "stream",
     "text": [
      "object\n"
     ]
    }
   ],
   "source": [
    "print(df['Order Date'].dtype)\n"
   ]
  },
  {
   "cell_type": "code",
   "execution_count": 44,
   "id": "88c622b0-46cc-4d67-8204-09c8e22ddd5f",
   "metadata": {},
   "outputs": [
    {
     "name": "stdout",
     "output_type": "stream",
     "text": [
      "datetime64[ns]\n"
     ]
    }
   ],
   "source": [
    "df['Order Date'] = pd.to_datetime(df['Order Date'], format='%m/%d/%Y', errors='coerce')\n",
    "print(df['Order Date'].dtype)  # Check again\n"
   ]
  },
  {
   "cell_type": "code",
   "execution_count": 45,
   "id": "aa75182a-388e-4aad-a5ac-144f0d2d9c8f",
   "metadata": {},
   "outputs": [],
   "source": [
    "df = df.dropna(subset=['Order Date'])\n"
   ]
  },
  {
   "cell_type": "code",
   "execution_count": 46,
   "id": "f4274638-b828-4950-91d8-e6db2929b46b",
   "metadata": {},
   "outputs": [
    {
     "name": "stdout",
     "output_type": "stream",
     "text": [
      "   Year  Total Sales\n",
      "0  2014  305340.8084\n",
      "1  2015  306319.0243\n",
      "2  2016  337715.7451\n",
      "3  2017  459907.9709\n"
     ]
    }
   ],
   "source": [
    "yearly_sales = df.groupby(df['Order Date'].dt.year)['Sales'].sum().reset_index()\n",
    "yearly_sales.rename(columns={'Order Date': 'Year', 'Sales': 'Total Sales'}, inplace=True)\n",
    "print(yearly_sales)\n"
   ]
  },
  {
   "cell_type": "code",
   "execution_count": 47,
   "id": "3750fb12-c343-420b-87a8-8ffc395ae9b6",
   "metadata": {},
   "outputs": [
    {
     "data": {
      "image/png": "[encoded data removed]",
      "text/plain": [
       "<Figure size 1000x600 with 1 Axes>"
      ]
     },
     "metadata": {},
     "output_type": "display_data"
    }
   ],
   "source": [
    "# Plot the bar graph\n",
    "plt.figure(figsize=(10, 6))\n",
    "plt.bar(yearly_sales['Year'], yearly_sales['Total Sales'], color='skyblue')\n",
    "\n",
    "# Add labels and title\n",
    "plt.xlabel('Year')\n",
    "plt.ylabel('Total Sales')\n",
    "plt.title('Yearly Sales')\n",
    "plt.xticks(yearly_sales['Year'])  # Ensure all years are displayed on x-axis\n",
    "plt.grid(axis='y', linestyle='--', alpha=0.7)"
   ]
  },
  {
   "cell_type": "code",
   "execution_count": 48,
   "id": "3da22f9f-c3f0-4652-802b-471bb7310614",
   "metadata": {},
   "outputs": [
    {
     "data": {
      "text/plain": [
       "[<matplotlib.lines.Line2D at 0x287557faed0>]"
      ]
     },
     "execution_count": 48,
     "metadata": {},
     "output_type": "execute_result"
    },
    {
     "data": {
      "image/png": "[encoded data removed]",
      "text/plain": [
       "<Figure size 640x480 with 1 Axes>"
      ]
     },
     "metadata": {},
     "output_type": "display_data"
    }
   ],
   "source": [
    "plt.plot(yearly_sales['Year'], yearly_sales['Total Sales'],marker = 'o', linestyle= '-',color='r')\n",
    "\n"
   ]
  },
  {
   "cell_type": "code",
   "execution_count": 81,
   "id": "7978e818-e2e1-4b90-9a19-ec92a827da3c",
   "metadata": {},
   "outputs": [
    {
     "name": "stdout",
     "output_type": "stream",
     "text": [
      "     Quarter  Total Sales\n",
      "0 2016-03-31   41203.9880\n",
      "1 2016-06-30   88457.2850\n",
      "2 2016-09-30   80581.2621\n",
      "3 2016-12-31  127473.2100\n"
     ]
    }
   ],
   "source": [
    "\n",
    "year_sales = df[df['Order Date'].dt.year==2016]\n",
    "# Resample sales quarterly\n",
    "quarterly_sales = year_sales.resample('QE', on='Order Date')['Sales'].sum()\n",
    "quarterly_sales = quarterly_sales.reset_index()\n",
    "# Rename columns correctly\n",
    "quarterly_sales = quarterly_sales.rename(columns={'Order Date': 'Quarter', 'Sales': 'Total Sales'})\n",
    "\n",
    "# Print the result\n",
    "print(quarterly_sales)"
   ]
  },
  {
   "cell_type": "code",
   "execution_count": 85,
   "id": "6c7f876a-5ab9-4d85-8248-4c58b23d9876",
   "metadata": {},
   "outputs": [
    {
     "data": {
      "text/plain": [
       "[<matplotlib.lines.Line2D at 0x28755ed1220>]"
      ]
     },
     "execution_count": 85,
     "metadata": {},
     "output_type": "execute_result"
    },
    {
     "data": {
      "image/png": "[encoded data removed]",
      "text/plain": [
       "<Figure size 640x480 with 1 Axes>"
      ]
     },
     "metadata": {},
     "output_type": "display_data"
    }
   ],
   "source": [
    "plt.plot(quarterly_sales['Quarter'],quarterly_sales['Total Sales'],marker = 'o',linestyle= '--')\n",
    "plt.tight_layout()\n",
    "plt.xticks(rotation)"
   ]
  },
  {
   "cell_type": "code",
   "execution_count": null,
   "id": "4fc30121-ae2a-44b4-8960-0db8e6d4c4d7",
   "metadata": {},
   "outputs": [],
   "source": []
  },
  {
   "cell_type": "code",
   "execution_count": null,
   "id": "431c3848-c49f-46ed-a1e7-b7b0cb3c52b0",
   "metadata": {},
   "outputs": [],
   "source": []
  }
 ],
 "metadata": {
  "kernelspec": {
   "display_name": "Python 3 (ipykernel)",
   "language": "python",
   "name": "python3"
  },
  "language_info": {
   "codemirror_mode": {
    "name": "ipython",
    "version": 3
   },
   "file_extension": ".py",
   "mimetype": "text/x-python",
   "name": "python",
   "nbconvert_exporter": "python",
   "pygments_lexer": "ipython3",
   "version": "3.12.4"
  }
 },
 "nbformat": 4,
 "nbformat_minor": 5
}
